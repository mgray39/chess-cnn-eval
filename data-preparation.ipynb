{
 "cells": [
  {
   "cell_type": "code",
   "execution_count": 56,
   "id": "25aa10eb-c98d-4fbc-b987-12afe717190b",
   "metadata": {},
   "outputs": [],
   "source": [
    "from sklearn.model_selection import train_test_split\n",
    "import pandas as pd\n",
    "import os\n",
    "\n",
    "if __name__ =='__main__':\n",
    "    if not os.path.exists('./prepared_data/'):\n",
    "        os.mkdir('./prepared_data/')\n",
    "        \n",
    "    df = pd.read_csv('./data/chessData.csv')\n",
    "    \n",
    "    train_df, test_df = train_test_split(df, test_size=0.2)\n",
    "\n",
    "    train_df.to_csv('./prepared_data/train_chess_data.csv', encoding = 'utf-8', index=False)\n",
    "    test_df.to_csv('./prepared_data/test_chess_data.csv', encoding = 'utf-8', index=False)\n",
    "    \n"
   ]
  },
  {
   "cell_type": "code",
   "execution_count": 19,
   "id": "96fbdcc7-b315-4768-8e53-f95a77cbeaa1",
   "metadata": {},
   "outputs": [],
   "source": [
    "import pandas as pd \n",
    "import numpy as np\n",
    "import chess\n",
    "import torch\n",
    "\n",
    "\n",
    "piece_list = ['pawn','knight','bishop','rook','queen','king']\n",
    "piece_key = range(1,7)\n",
    "\n",
    "piece_dict = dict(zip(piece_list, piece_key))\n",
    "\n",
    "colour_dict = {'black':0, 'white':1}\n",
    "\n",
    "\n",
    "def fen_translator(fen_string: str):\n",
    "    \n",
    "    board = chess.Board(fen_string)\n",
    "    \n",
    "    tensor = board_to_tensor(board = board)\n",
    "    \n",
    "    return tensor\n",
    "\n",
    "\n",
    "def board_to_tensor(board: chess.Board) -> torch.Tensor:\n",
    "    \n",
    "    array_list = []\n",
    "    \n",
    "    for colour in colour_dict.values():\n",
    "        for piece in piece_dict.values():\n",
    "            piece_array = np.reshape(np.array(str(board.pieces(piece, colour)).replace(' ', ',').replace('.','0').replace('\\n', ',').split(',')), (8,8)).astype(int)\n",
    "            array_list.append(piece_array)\n",
    "    \n",
    "    \n",
    "    array_list.append(create_ep_tensor(board))\n",
    "    array_list.append(create_castle_tensor(board))\n",
    "    array_list.append(create_half_move_clock_draw_tensor(board))\n",
    "    array_list.append(create_to_move_tensor(board))\n",
    "    \n",
    "    tensor = torch.tensor(np.array(array_list))\n",
    "    \n",
    "    return tensor\n",
    "\n",
    "\n",
    "def create_ep_tensor(board: chess.Board) -> np.ndarray:\n",
    "    \"\"\"\n",
    "    Expects a board object and returns an 8x8 array with 1 on any ep position. \n",
    "    \"\"\"\n",
    "    \n",
    "    \n",
    "    ep_tensor = np.zeros(64)\n",
    "    \n",
    "    if board.ep_square:\n",
    "        ep = board.ep_square\n",
    "        ep_tensor[ep] = 1\n",
    "        \n",
    "    ep_tensor = ep_tensor.reshape(8,8)[-1::-1]\n",
    "    \n",
    "    return ep_tensor\n",
    "\n",
    "\n",
    "def create_castle_tensor(board: chess.Board) -> np.ndarray:\n",
    "    \"\"\"\n",
    "    Expects a board object and returns a 8x8 array with 1s in the corners where the kings may castle\n",
    "    \n",
    "    \"\"\"\n",
    "    \n",
    "    castle_tensor = np.zeros(64).reshape((8,8))\n",
    "    \n",
    "    castling_rights = board.castling_rights\n",
    "    \n",
    "    pos_dict = {63: (0,7),\n",
    "                56: (0,0),\n",
    "                7: (7,7),\n",
    "                0: (7,0)}\n",
    "    \n",
    "    for pos_number, pos_coordinates in pos_dict.items():\n",
    "        \n",
    "        if castling_rights >= 2**pos_number:\n",
    "            castling_rights -= 2**pos_number\n",
    "            castle_tensor[pos_coordinates] = 1\n",
    "        \n",
    "    return castle_tensor\n",
    "\n",
    "\n",
    "def create_half_move_clock_draw_tensor(board: chess.Board) -> np.ndarray:\n",
    "    \n",
    "    if board.halfmove_clock>=100:\n",
    "        \n",
    "        return np.ones(64).reshape((8,8))\n",
    "    \n",
    "    else:\n",
    "        \n",
    "        return np.zeros(64).reshape((8,8))\n",
    "    \n",
    "    \n",
    "def create_to_move_tensor(board: chess.Board) -> np.ndarray:\n",
    "    \n",
    "    if board.turn:\n",
    "        return np.hstack((np.zeros(32), np.ones(32))).reshape(8,8)\n",
    "    \n",
    "    else:\n",
    "        return np.hstack((np.ones(32), np.zeros(32))).reshape(8,8)\n",
    "    \n",
    "    \n",
    "def evaluation_mate_handler(df: pd.DataFrame) -> pd.DataFrame:\n",
    "    \n",
    "    df = (df\n",
    "          .dropna()\n",
    "          .assign(Evaluation = lambda df: (df['Evaluation']\n",
    "                                            .mask(df['Evaluation']\n",
    "                                                  .str.contains('#-'), '-20000')))\n",
    "          .assign(Evaluation = lambda df: (df['Evaluation']\n",
    "                                            .mask(df['Evaluation']\n",
    "                                                  .str.contains('#+'), '20000')))\n",
    "          .assign(Evaluation = lambda df: (df['Evaluation']\n",
    "                                           .str.replace('\\ufeff', '')\n",
    "                                           .str.replace(r'\\s', '', regex=True)\n",
    "                                           .str.replace('+', '')\n",
    "                                           .astype(int))\n",
    "                 )\n",
    "         )\n",
    "    \n",
    "    return df\n",
    "\n"
   ]
  },
  {
   "cell_type": "code",
   "execution_count": 9,
   "id": "10314767-9e43-4042-8fc9-990bad2c3f35",
   "metadata": {},
   "outputs": [],
   "source": [
    "chess_path = './data/chessData.csv'\n",
    "\n",
    "df = pd.read_csv(chess_path)\n"
   ]
  },
  {
   "cell_type": "code",
   "execution_count": 73,
   "id": "f6134179-18ec-4e98-b1fd-f4d2b91e6d26",
   "metadata": {},
   "outputs": [
    {
     "data": {
      "text/plain": [
       "tensor(20000)"
      ]
     },
     "execution_count": 73,
     "metadata": {},
     "output_type": "execute_result"
    }
   ],
   "source": [
    "hold_batch[1].abs().max()"
   ]
  },
  {
   "cell_type": "code",
   "execution_count": 78,
   "id": "320c7124-7e8f-4e5d-a527-37aae5f1dcbb",
   "metadata": {},
   "outputs": [],
   "source": [
    "def div_max(tensor: torch.Tensor) -> torch.Tensor:\n",
    "    \n",
    "    tensor = tensor.to(torch.float32)\n",
    "    \n",
    "    tensor /= tensor.abs().max()\n",
    "    \n",
    "    return tensor"
   ]
  },
  {
   "cell_type": "code",
   "execution_count": 81,
   "id": "07fa8d6e-15bb-4a10-801d-a4df4a48bfb5",
   "metadata": {},
   "outputs": [
    {
     "data": {
      "text/plain": [
       "'-20000'"
      ]
     },
     "execution_count": 81,
     "metadata": {},
     "output_type": "execute_result"
    }
   ],
   "source": [
    "duck = '20000'\n",
    "\n",
    "'-'+duck"
   ]
  },
  {
   "cell_type": "code",
   "execution_count": null,
   "id": "f6f47659-ddd0-4974-98fe-f555884a0695",
   "metadata": {},
   "outputs": [],
   "source": [
    "transforms."
   ]
  },
  {
   "cell_type": "code",
   "execution_count": 80,
   "id": "a1313cfe-d744-4f57-b9f8-5202aad7687f",
   "metadata": {},
   "outputs": [
    {
     "data": {
      "text/plain": [
       "torch.float32"
      ]
     },
     "execution_count": 80,
     "metadata": {},
     "output_type": "execute_result"
    }
   ],
   "source": [
    "div_max(hold_batch[1].to(torch.float32)).dtype"
   ]
  },
  {
   "cell_type": "code",
   "execution_count": 10,
   "id": "fb8aea79-b11a-47aa-9837-c821d5e5d233",
   "metadata": {},
   "outputs": [
    {
     "name": "stderr",
     "output_type": "stream",
     "text": [
      "/tmp/ipykernel_79883/471159207.py:118: FutureWarning: The default value of regex will change from True to False in a future version. In addition, single character regular expressions will *not* be treated as literal strings when regex=True.\n",
      "  .str.replace('+', '')\n"
     ]
    }
   ],
   "source": [
    "df = df.pipe(evaluation_mate_handler)"
   ]
  },
  {
   "cell_type": "code",
   "execution_count": 10,
   "id": "e20a865a-8092-45a5-95f6-530c576cab38",
   "metadata": {},
   "outputs": [
    {
     "data": {
      "text/plain": [
       "<AxesSubplot:>"
      ]
     },
     "execution_count": 10,
     "metadata": {},
     "output_type": "execute_result"
    },
    {
     "data": {
      "image/png": "[encoded data removed]",
      "text/plain": [
       "<Figure size 432x288 with 1 Axes>"
      ]
     },
     "metadata": {
      "needs_background": "light"
     },
     "output_type": "display_data"
    }
   ],
   "source": [
    "df.query('-1000000<Evaluation<1000000')['Evaluation'].hist()"
   ]
  },
  {
   "cell_type": "code",
   "execution_count": 16,
   "id": "63aa1d1d-2103-4af8-ad97-c919f1b1d205",
   "metadata": {},
   "outputs": [
    {
     "data": {
      "text/plain": [
       "<AxesSubplot:>"
      ]
     },
     "execution_count": 16,
     "metadata": {},
     "output_type": "execute_result"
    },
    {
     "data": {
      "image/png": "[encoded data removed]",
      "text/plain": [
       "<Figure size 432x288 with 1 Axes>"
      ]
     },
     "metadata": {
      "needs_background": "light"
     },
     "output_type": "display_data"
    }
   ],
   "source": [
    "df['Evaluation'].hist(bins = 10000)"
   ]
  },
  {
   "cell_type": "markdown",
   "id": "5ae69b91-a002-4cfe-aa27-88f9c139bfba",
   "metadata": {},
   "source": [
    "## Building the Pytorch Data Loader"
   ]
  },
  {
   "cell_type": "code",
   "execution_count": 15,
   "id": "c9cb696e-46e3-4831-b632-715dd7520ef6",
   "metadata": {},
   "outputs": [],
   "source": [
    "import torch\n",
    "from torch.utils.data import Dataset\n",
    "from torchvision import datasets\n",
    "from torchvision.transforms import ToTensor\n",
    "import matplotlib.pyplot as plt\n",
    "import pandas as pd"
   ]
  },
  {
   "cell_type": "code",
   "execution_count": 20,
   "id": "912642c5-46fb-492b-b85f-9b7e20346139",
   "metadata": {},
   "outputs": [],
   "source": [
    "class FENDataset(Dataset):\n",
    "\n",
    "    def __init__(self, evaluation_file_path: str):\n",
    "        self.evaluation_file_path = evaluation_file_path\n",
    "        self.evaluation_data = (pd.read_csv(self.evaluation_file_path)\n",
    "                                .pipe(evaluation_mate_handler))\n",
    "        \n",
    "        \n",
    "    def __len__(self):\n",
    "        return len(self.evaluation_data)\n",
    "    \n",
    "    def __getitem__(self, idx):\n",
    "        label = self.evaluation_data.loc[idx, 'Evaluation']\n",
    "        tensor = fen_translator(self.evaluation_data.loc[idx, 'FEN'])\n",
    "        \n",
    "        return tensor, label"
   ]
  },
  {
   "cell_type": "code",
   "execution_count": 21,
   "id": "3d7e47c5-9fb6-4de0-a1fa-4d6897e1071b",
   "metadata": {},
   "outputs": [
    {
     "name": "stderr",
     "output_type": "stream",
     "text": [
      "/tmp/ipykernel_282123/3894474985.py:118: FutureWarning: The default value of regex will change from True to False in a future version. In addition, single character regular expressions will *not* be treated as literal strings when regex=True.\n",
      "  .str.replace('+', '')\n",
      "/tmp/ipykernel_282123/3894474985.py:118: FutureWarning: The default value of regex will change from True to False in a future version. In addition, single character regular expressions will *not* be treated as literal strings when regex=True.\n",
      "  .str.replace('+', '')\n"
     ]
    }
   ],
   "source": [
    "train_dataset = FENDataset( './prepared_data/train_chess_data.csv')\n",
    "test_dataset = FENDataset( './prepared_data/test_chess_data.csv')"
   ]
  },
  {
   "cell_type": "code",
   "execution_count": 57,
   "id": "a950fd23-e51e-4807-aaf5-6d2da87c596d",
   "metadata": {},
   "outputs": [],
   "source": [
    "from torch.utils.data import DataLoader\n",
    "\n",
    "train_dataloader = DataLoader(train_dataset, batch_size = 64, shuffle=True)\n",
    "\n",
    "test_dataloader = DataLoader(test_dataset, batch_size = 64, shuffle = True)"
   ]
  },
  {
   "cell_type": "code",
   "execution_count": 58,
   "id": "8b4c60cd-675d-4638-b3d1-0dcd3c997383",
   "metadata": {
    "scrolled": true,
    "tags": []
   },
   "outputs": [],
   "source": [
    "hold_batch = None\n",
    "i = 0\n",
    "\n",
    "for batch in test_dataloader:\n",
    "    if i ==38: \n",
    "        hold_batch = batch\n",
    "        break\n",
    "    else:\n",
    "        i+=1"
   ]
  },
  {
   "cell_type": "code",
   "execution_count": 62,
   "id": "e8e0aeb9-0c60-4a6d-8f4a-9942b9b746f3",
   "metadata": {},
   "outputs": [],
   "source": [
    "loss = nn.MSELoss()"
   ]
  },
  {
   "cell_type": "code",
   "execution_count": 68,
   "id": "e25d25ef-9a11-4c1c-90ae-376cbc7173d0",
   "metadata": {},
   "outputs": [
    {
     "data": {
      "text/plain": [
       "tensor(8285698., grad_fn=<MseLossBackward0>)"
      ]
     },
     "execution_count": 68,
     "metadata": {},
     "output_type": "execute_result"
    }
   ],
   "source": [
    "loss(net(hold_batch[0].to(torch.float32)), hold_batch[1])"
   ]
  },
  {
   "cell_type": "code",
   "execution_count": 69,
   "id": "5edbe694-91ec-4a27-be6e-6396bf1298e7",
   "metadata": {},
   "outputs": [
    {
     "data": {
      "text/plain": [
       "tensor(8285697., grad_fn=<MseLossBackward0>)"
      ]
     },
     "execution_count": 69,
     "metadata": {},
     "output_type": "execute_result"
    }
   ],
   "source": [
    "loss(net(hold_batch[0].to(torch.float32)).reshape(-1), hold_batch[1].to(torch.float32))"
   ]
  },
  {
   "cell_type": "code",
   "execution_count": 70,
   "id": "c981d205-06e9-462b-8170-94b2a81ed85d",
   "metadata": {},
   "outputs": [
    {
     "data": {
      "text/plain": [
       "tensor([86.8813, 86.8813, 86.8813, 86.8813, 86.8813, 86.8813, 86.8813, 86.8813,\n",
       "        86.8813, 86.8813, 86.8813, 86.8813, 86.8813, 86.8813, 86.8813, 86.8813,\n",
       "        86.8813, 86.8813, 86.8813, 86.8813, 86.8813, 86.8813, 86.8813, 86.8813,\n",
       "        86.8813, 86.8813, 86.8813, 86.8813, 86.8813, 86.8813, 86.8813, 86.8813,\n",
       "        86.8813, 86.8813, 86.8813, 86.8813, 86.8813, 86.8813, 86.8813, 86.8813,\n",
       "        86.8813, 86.8813, 86.8813, 86.8813, 86.8813, 86.8813, 86.8813, 86.8813,\n",
       "        86.8813, 86.8813, 86.8813, 86.8813, 86.8813, 86.8813, 86.8813, 86.8813,\n",
       "        86.8813, 86.8813, 86.8813, 86.8813, 86.8813, 86.8813, 86.8813, 86.8813],\n",
       "       grad_fn=<ReshapeAliasBackward0>)"
      ]
     },
     "execution_count": 70,
     "metadata": {},
     "output_type": "execute_result"
    }
   ],
   "source": [
    "net(hold_batch[0].to(torch.float32)).reshape(-1)"
   ]
  },
  {
   "cell_type": "code",
   "execution_count": 71,
   "id": "fd1cab7b-c482-4ece-9ff4-098c1c909c80",
   "metadata": {},
   "outputs": [
    {
     "data": {
      "text/plain": [
       "tensor([ -5814, -20000,    178,    983,    -50,      0,    229,    119,      0,\n",
       "            32,    376,    316,   -885,     72,   -138,     26,    -94,     71,\n",
       "             0,   -165,     59,    324,     13,     21,    279,     16,   -110,\n",
       "            13,   -530,    -84,    102,    109,     52,  -6923,   -903,     21,\n",
       "          -281,     53,    237,    200,      0,    -52,   -243,     83,    -56,\n",
       "            57,   -132,    123,      0,    174,     53,    667,   -118,  -6047,\n",
       "          -272,     70,   -162,     59,   -615,    111,     97,    -84,    -92,\n",
       "           292])"
      ]
     },
     "execution_count": 71,
     "metadata": {},
     "output_type": "execute_result"
    }
   ],
   "source": [
    "hold_batch[1]"
   ]
  },
  {
   "cell_type": "code",
   "execution_count": 47,
   "id": "cd83f703-ed53-4fa3-a74b-668002d96107",
   "metadata": {
    "scrolled": true,
    "tags": []
   },
   "outputs": [
    {
     "data": {
      "text/plain": [
       "tensor([[86.8813],\n",
       "        [86.8813],\n",
       "        [86.8813],\n",
       "        [86.8813],\n",
       "        [86.8813],\n",
       "        [86.8813],\n",
       "        [86.8813],\n",
       "        [86.8813],\n",
       "        [86.8813],\n",
       "        [86.8813],\n",
       "        [86.8813],\n",
       "        [86.8813],\n",
       "        [86.8813],\n",
       "        [86.8813],\n",
       "        [86.8813],\n",
       "        [86.8813],\n",
       "        [86.8813],\n",
       "        [86.8813],\n",
       "        [86.8813],\n",
       "        [86.8813],\n",
       "        [86.8813],\n",
       "        [86.8813],\n",
       "        [86.8813],\n",
       "        [86.8813],\n",
       "        [86.8813],\n",
       "        [86.8813],\n",
       "        [86.8813],\n",
       "        [86.8813],\n",
       "        [86.8813],\n",
       "        [86.8813],\n",
       "        [86.8813],\n",
       "        [86.8813],\n",
       "        [86.8813],\n",
       "        [86.8813],\n",
       "        [86.8813],\n",
       "        [86.8813],\n",
       "        [86.8813],\n",
       "        [86.8813],\n",
       "        [86.8813],\n",
       "        [86.8813],\n",
       "        [86.8813],\n",
       "        [86.8813],\n",
       "        [86.8813],\n",
       "        [86.8813],\n",
       "        [86.8813],\n",
       "        [86.8813],\n",
       "        [86.8813],\n",
       "        [86.8813],\n",
       "        [86.8813],\n",
       "        [86.8813],\n",
       "        [86.8813],\n",
       "        [86.8813],\n",
       "        [86.8813],\n",
       "        [86.8813],\n",
       "        [86.8813],\n",
       "        [86.8813],\n",
       "        [86.8813],\n",
       "        [86.8813],\n",
       "        [86.8813],\n",
       "        [86.8813],\n",
       "        [86.8813],\n",
       "        [86.8813],\n",
       "        [86.8813],\n",
       "        [86.8813]], grad_fn=<AddmmBackward0>)"
      ]
     },
     "execution_count": 47,
     "metadata": {},
     "output_type": "execute_result"
    }
   ],
   "source": [
    "net(hold_batch[0].to(torch.float32))"
   ]
  },
  {
   "cell_type": "code",
   "execution_count": null,
   "id": "089844f3-f122-4db3-afad-3724b7b210b8",
   "metadata": {},
   "outputs": [],
   "source": [
    "hold"
   ]
  },
  {
   "cell_type": "code",
   "execution_count": 1,
   "id": "9bed8cf5-9e36-434b-b3d6-92ca0c8cc5b2",
   "metadata": {},
   "outputs": [],
   "source": [
    "import logging"
   ]
  },
  {
   "cell_type": "code",
   "execution_count": 2,
   "id": "09e6e618-aa42-4fc2-8d46-427f14c92c0a",
   "metadata": {},
   "outputs": [],
   "source": [
    "fmtstr = \"%(asctime)s: (%(filename)s): %(levelname)s: %(funcName)s Line: %(lineno)d - %(message)s\"\n",
    "datestr = \"%Y-%m-%d %H:%M:%S\""
   ]
  },
  {
   "cell_type": "code",
   "execution_count": 3,
   "id": "2a1dab3b-61ca-44c5-a916-d3570f253ada",
   "metadata": {},
   "outputs": [],
   "source": [
    "logging.basicConfig(\n",
    "        filename=\"custom_log_output.log\",\n",
    "        level=logging.DEBUG,\n",
    "        filemode=\"w\",\n",
    "        format=fmtstr,\n",
    "        datefmt=datestr,\n",
    "  )"
   ]
  },
  {
   "cell_type": "code",
   "execution_count": 4,
   "id": "32a5ddbc-e86a-43ad-8655-065a53ff78cc",
   "metadata": {},
   "outputs": [],
   "source": [
    "logging.info('this is a log')"
   ]
  },
  {
   "cell_type": "code",
   "execution_count": 4,
   "id": "66f88ad2-1c8b-4b27-9142-d89db461b09d",
   "metadata": {},
   "outputs": [
    {
     "name": "stdout",
     "output_type": "stream",
     "text": [
      "0.448298\n"
     ]
    }
   ],
   "source": [
    "print(f'{0.448298382392939283839283:.6f}')"
   ]
  },
  {
   "cell_type": "code",
   "execution_count": 5,
   "id": "89d762c4-1735-4af1-9484-69399652b08f",
   "metadata": {},
   "outputs": [],
   "source": [
    "import numpy as np"
   ]
  },
  {
   "cell_type": "code",
   "execution_count": 7,
   "id": "f3c362cc-32d4-4352-b8ac-f05db4d4f083",
   "metadata": {},
   "outputs": [
    {
     "data": {
      "text/plain": [
       "0.22929272649999977"
      ]
     },
     "execution_count": 7,
     "metadata": {},
     "output_type": "execute_result"
    }
   ],
   "source": [
    "a= np.array([2.546,3.489,7.4869,11.4698])\n",
    "b= np.array([2.1546,3.4489,7.74869,11.54698])\n",
    "\n",
    "np.sum((a-b)**2)"
   ]
  },
  {
   "cell_type": "code",
   "execution_count": 9,
   "id": "3dd4e5fa-a8b0-4681-a417-42169abc3ddb",
   "metadata": {},
   "outputs": [],
   "source": [
    "import torch.nn as nn\n",
    "import torch\n",
    "import torch.nn.functional as F\n",
    "from data_load_utils import FENDataset\n",
    "from torchvision import transforms\n",
    "import argparse\n",
    "from torch.utils.data import DataLoader\n",
    "import logging\n",
    "import sys\n",
    "import os\n",
    "from torch.optim import AdamW\n",
    "import numpy as np\n"
   ]
  },
  {
   "cell_type": "code",
   "execution_count": 10,
   "id": "9e8b0b86-640b-452b-90b6-33a594af3848",
   "metadata": {},
   "outputs": [],
   "source": [
    "class Model(nn.Module):\n",
    "    def __init__(self, number_of_convolutions, number_of_filters): \n",
    "        super().__init__() \n",
    "        self.number_of_convolutions = number_of_convolutions\n",
    "        self.number_of_filters = number_of_filters\n",
    "        \n",
    "        self.conv1 = nn.Conv2d(16, number_of_filters, kernel_size=3, stride = 1, padding = 'same') # Input Channels, Number of Kernels, Kernel Size \n",
    "        self.pool = nn.MaxPool2d(kernel_size = 2, stride = 1, padding = 1) # Kernel Size, Stride \n",
    "        \n",
    "        self.residual_list = nn.ModuleList([nn.Conv2d(number_of_filters, number_of_filters, kernel_size=3, stride = 1, padding='same') for i in range(number_of_convolutions)])\n",
    "        \n",
    "        \n",
    "        self.fc1 = nn.Linear(number_of_filters*(8+number_of_convolutions+1)**2, 1) \n",
    "    \n",
    "    def forward(self, x): \n",
    "        \n",
    "        x = self.pool(F.relu(self.conv1(x))) \n",
    "        \n",
    "        for conv_layer in self.residual_list:\n",
    "            x = self.pool(F.relu(conv_layer(x))) \n",
    "        \n",
    "        x = torch.flatten(x, 0) \n",
    "        \n",
    "        x = self.fc1(x)\n",
    "\n",
    "        return x"
   ]
  },
  {
   "cell_type": "code",
   "execution_count": 1,
   "id": "f61c6f50-f44b-4a38-b1aa-73ecaaf1158f",
   "metadata": {},
   "outputs": [],
   "source": [
    "import torch.nn as nn\n",
    "import torch\n",
    "import torch.nn.functional as F\n",
    "from data_load_utils import FENDataset\n",
    "from torchvision import transforms\n",
    "import argparse\n",
    "from torch.utils.data import DataLoader\n",
    "import logging\n",
    "import sys\n",
    "import os\n",
    "from torch.optim import AdamW\n",
    "import numpy as np\n",
    "\n",
    "class Model(nn.Module):\n",
    "    def __init__(self, number_of_convolutions, number_of_filters): \n",
    "        super().__init__() \n",
    "        self.number_of_convolutions = number_of_convolutions\n",
    "        self.number_of_filters = number_of_filters\n",
    "        \n",
    "        self.conv1 = nn.Conv2d(16, number_of_filters, kernel_size=3, stride = 1, padding = 'same') # Input Channels, Number of Kernels, Kernel Size \n",
    "        self.pool = nn.MaxPool2d(kernel_size = 2, stride = 1, padding = 1) # Kernel Size, Stride \n",
    "        \n",
    "        self.residual_list = nn.ModuleList([nn.Conv2d(number_of_filters, number_of_filters, kernel_size=3, stride = 1, padding='same') for i in range(number_of_convolutions)])\n",
    "        \n",
    "        \n",
    "        self.fc1 = nn.Linear(number_of_filters*(8+number_of_convolutions+1)**2, 1) \n",
    "    \n",
    "    def forward(self, x): \n",
    "        \n",
    "        x = self.pool(F.relu(self.conv1(x))) \n",
    "        \n",
    "        for conv_layer in self.residual_list:\n",
    "            x = self.pool(F.relu(conv_layer(x))) \n",
    "        \n",
    "        x = torch.flatten(x, 1)#1 because passing batch? \n",
    "        \n",
    "        x = self.fc1(x)\n",
    "\n",
    "        return x\n",
    "    "
   ]
  },
  {
   "cell_type": "code",
   "execution_count": 19,
   "id": "4610d586-3d26-45cd-a91b-295ff4f56098",
   "metadata": {},
   "outputs": [],
   "source": [
    "net = Model(number_of_convolutions=5, number_of_filters=10)"
   ]
  },
  {
   "cell_type": "code",
   "execution_count": 20,
   "id": "2360f545-4089-49ff-88c2-63b6eb35434a",
   "metadata": {},
   "outputs": [
    {
     "data": {
      "text/plain": [
       "<All keys matched successfully>"
      ]
     },
     "execution_count": 20,
     "metadata": {},
     "output_type": "execute_result"
    }
   ],
   "source": [
    "net.load_state_dict(torch.load('models/chess_nc_5_nf_10_e_2_bs_64_lr_0.001.pth'))"
   ]
  },
  {
   "cell_type": "code",
   "execution_count": 11,
   "id": "16db50c5-b931-4c3e-8206-a35152f7aab9",
   "metadata": {},
   "outputs": [
    {
     "data": {
      "text/html": [
       "<div>\n",
       "<style scoped>\n",
       "    .dataframe tbody tr th:only-of-type {\n",
       "        vertical-align: middle;\n",
       "    }\n",
       "\n",
       "    .dataframe tbody tr th {\n",
       "        vertical-align: top;\n",
       "    }\n",
       "\n",
       "    .dataframe thead th {\n",
       "        text-align: right;\n",
       "    }\n",
       "</style>\n",
       "<table border=\"1\" class=\"dataframe\">\n",
       "  <thead>\n",
       "    <tr style=\"text-align: right;\">\n",
       "      <th></th>\n",
       "      <th>FEN</th>\n",
       "      <th>Evaluation</th>\n",
       "    </tr>\n",
       "  </thead>\n",
       "  <tbody>\n",
       "    <tr>\n",
       "      <th>0</th>\n",
       "      <td>rnbqkbnr/pppppppp/8/8/4P3/8/PPPP1PPP/RNBQKBNR ...</td>\n",
       "      <td>-10</td>\n",
       "    </tr>\n",
       "    <tr>\n",
       "      <th>1</th>\n",
       "      <td>rnbqkbnr/pppp1ppp/4p3/8/4P3/8/PPPP1PPP/RNBQKBN...</td>\n",
       "      <td>56</td>\n",
       "    </tr>\n",
       "    <tr>\n",
       "      <th>2</th>\n",
       "      <td>rnbqkbnr/pppp1ppp/4p3/8/3PP3/8/PPP2PPP/RNBQKBN...</td>\n",
       "      <td>-9</td>\n",
       "    </tr>\n",
       "    <tr>\n",
       "      <th>3</th>\n",
       "      <td>rnbqkbnr/ppp2ppp/4p3/3p4/3PP3/8/PPP2PPP/RNBQKB...</td>\n",
       "      <td>52</td>\n",
       "    </tr>\n",
       "    <tr>\n",
       "      <th>4</th>\n",
       "      <td>rnbqkbnr/ppp2ppp/4p3/3p4/3PP3/8/PPPN1PPP/R1BQK...</td>\n",
       "      <td>-26</td>\n",
       "    </tr>\n",
       "    <tr>\n",
       "      <th>...</th>\n",
       "      <td>...</td>\n",
       "      <td>...</td>\n",
       "    </tr>\n",
       "    <tr>\n",
       "      <th>12958030</th>\n",
       "      <td>r1bqkb1r/pp3ppp/1nn1p3/3pP3/3P1P2/1B3N2/PP2Q1P...</td>\n",
       "      <td>6</td>\n",
       "    </tr>\n",
       "    <tr>\n",
       "      <th>12958031</th>\n",
       "      <td>r2qkb1r/pp1b1ppp/1nn1p3/3pP3/3P1P2/1B3N2/PP2Q1...</td>\n",
       "      <td>84</td>\n",
       "    </tr>\n",
       "    <tr>\n",
       "      <th>12958032</th>\n",
       "      <td>r2qkb1r/pp1b1ppp/1nn1p3/3pP3/3P1P2/1BN2N2/PP2Q...</td>\n",
       "      <td>0</td>\n",
       "    </tr>\n",
       "    <tr>\n",
       "      <th>12958033</th>\n",
       "      <td>r2qkb1r/pp1b1ppp/1n2p3/n2pP3/3P1P2/1BN2N2/PP2Q...</td>\n",
       "      <td>115</td>\n",
       "    </tr>\n",
       "    <tr>\n",
       "      <th>12958034</th>\n",
       "      <td>r2qkb1r/pp1b1ppp/1n2p3/n2pP3/3P1P2/2N2N2/PPB1Q...</td>\n",
       "      <td>45</td>\n",
       "    </tr>\n",
       "  </tbody>\n",
       "</table>\n",
       "<p>12958035 rows × 2 columns</p>\n",
       "</div>"
      ],
      "text/plain": [
       "                                                        FEN  Evaluation\n",
       "0         rnbqkbnr/pppppppp/8/8/4P3/8/PPPP1PPP/RNBQKBNR ...         -10\n",
       "1         rnbqkbnr/pppp1ppp/4p3/8/4P3/8/PPPP1PPP/RNBQKBN...          56\n",
       "2         rnbqkbnr/pppp1ppp/4p3/8/3PP3/8/PPP2PPP/RNBQKBN...          -9\n",
       "3         rnbqkbnr/ppp2ppp/4p3/3p4/3PP3/8/PPP2PPP/RNBQKB...          52\n",
       "4         rnbqkbnr/ppp2ppp/4p3/3p4/3PP3/8/PPPN1PPP/R1BQK...         -26\n",
       "...                                                     ...         ...\n",
       "12958030  r1bqkb1r/pp3ppp/1nn1p3/3pP3/3P1P2/1B3N2/PP2Q1P...           6\n",
       "12958031  r2qkb1r/pp1b1ppp/1nn1p3/3pP3/3P1P2/1B3N2/PP2Q1...          84\n",
       "12958032  r2qkb1r/pp1b1ppp/1nn1p3/3pP3/3P1P2/1BN2N2/PP2Q...           0\n",
       "12958033  r2qkb1r/pp1b1ppp/1n2p3/n2pP3/3P1P2/1BN2N2/PP2Q...         115\n",
       "12958034  r2qkb1r/pp1b1ppp/1n2p3/n2pP3/3P1P2/2N2N2/PPB1Q...          45\n",
       "\n",
       "[12958035 rows x 2 columns]"
      ]
     },
     "execution_count": 11,
     "metadata": {},
     "output_type": "execute_result"
    }
   ],
   "source": [
    "df"
   ]
  },
  {
   "cell_type": "code",
   "execution_count": 56,
   "id": "ab583072-dc9a-49a1-82fa-132b5f93c3fc",
   "metadata": {},
   "outputs": [
    {
     "ename": "NameError",
     "evalue": "name 'df' is not defined",
     "output_type": "error",
     "traceback": [
      "\u001b[0;31m---------------------------------------------------------------------------\u001b[0m",
      "\u001b[0;31mNameError\u001b[0m                                 Traceback (most recent call last)",
      "Input \u001b[0;32mIn [56]\u001b[0m, in \u001b[0;36m<cell line: 1>\u001b[0;34m()\u001b[0m\n\u001b[0;32m----> 1\u001b[0m frame \u001b[38;5;241m=\u001b[39m fen_translator(\u001b[43mdf\u001b[49m\u001b[38;5;241m.\u001b[39mloc[\u001b[38;5;241m0\u001b[39m,\u001b[38;5;124m'\u001b[39m\u001b[38;5;124mFEN\u001b[39m\u001b[38;5;124m'\u001b[39m])\n",
      "\u001b[0;31mNameError\u001b[0m: name 'df' is not defined"
     ]
    }
   ],
   "source": [
    "frame = fen_translator(df.loc[0,'FEN'])"
   ]
  },
  {
   "cell_type": "code",
   "execution_count": 25,
   "id": "a6c98655-8694-47a6-a8b5-6e0a995e76a3",
   "metadata": {},
   "outputs": [
    {
     "name": "stderr",
     "output_type": "stream",
     "text": [
      "/tmp/ipykernel_79883/2816279505.py:1: UserWarning: To copy construct from a tensor, it is recommended to use sourceTensor.clone().detach() or sourceTensor.clone().detach().requires_grad_(True), rather than torch.tensor(sourceTensor).\n",
      "  torch.tensor(frame)\n"
     ]
    },
    {
     "data": {
      "text/plain": [
       "tensor([[[0., 0., 0.,  ..., 0., 0., 0.],\n",
       "         [1., 1., 1.,  ..., 1., 1., 1.],\n",
       "         [0., 0., 0.,  ..., 0., 0., 0.],\n",
       "         ...,\n",
       "         [0., 0., 0.,  ..., 0., 0., 0.],\n",
       "         [0., 0., 0.,  ..., 0., 0., 0.],\n",
       "         [0., 0., 0.,  ..., 0., 0., 0.]],\n",
       "\n",
       "        [[0., 1., 0.,  ..., 0., 1., 0.],\n",
       "         [0., 0., 0.,  ..., 0., 0., 0.],\n",
       "         [0., 0., 0.,  ..., 0., 0., 0.],\n",
       "         ...,\n",
       "         [0., 0., 0.,  ..., 0., 0., 0.],\n",
       "         [0., 0., 0.,  ..., 0., 0., 0.],\n",
       "         [0., 0., 0.,  ..., 0., 0., 0.]],\n",
       "\n",
       "        [[0., 0., 1.,  ..., 1., 0., 0.],\n",
       "         [0., 0., 0.,  ..., 0., 0., 0.],\n",
       "         [0., 0., 0.,  ..., 0., 0., 0.],\n",
       "         ...,\n",
       "         [0., 0., 0.,  ..., 0., 0., 0.],\n",
       "         [0., 0., 0.,  ..., 0., 0., 0.],\n",
       "         [0., 0., 0.,  ..., 0., 0., 0.]],\n",
       "\n",
       "        ...,\n",
       "\n",
       "        [[1., 0., 0.,  ..., 0., 0., 1.],\n",
       "         [0., 0., 0.,  ..., 0., 0., 0.],\n",
       "         [0., 0., 0.,  ..., 0., 0., 0.],\n",
       "         ...,\n",
       "         [0., 0., 0.,  ..., 0., 0., 0.],\n",
       "         [0., 0., 0.,  ..., 0., 0., 0.],\n",
       "         [1., 0., 0.,  ..., 0., 0., 1.]],\n",
       "\n",
       "        [[0., 0., 0.,  ..., 0., 0., 0.],\n",
       "         [0., 0., 0.,  ..., 0., 0., 0.],\n",
       "         [0., 0., 0.,  ..., 0., 0., 0.],\n",
       "         ...,\n",
       "         [0., 0., 0.,  ..., 0., 0., 0.],\n",
       "         [0., 0., 0.,  ..., 0., 0., 0.],\n",
       "         [0., 0., 0.,  ..., 0., 0., 0.]],\n",
       "\n",
       "        [[1., 1., 1.,  ..., 1., 1., 1.],\n",
       "         [1., 1., 1.,  ..., 1., 1., 1.],\n",
       "         [1., 1., 1.,  ..., 1., 1., 1.],\n",
       "         ...,\n",
       "         [0., 0., 0.,  ..., 0., 0., 0.],\n",
       "         [0., 0., 0.,  ..., 0., 0., 0.],\n",
       "         [0., 0., 0.,  ..., 0., 0., 0.]]], dtype=torch.float64)"
      ]
     },
     "execution_count": 25,
     "metadata": {},
     "output_type": "execute_result"
    }
   ],
   "source": [
    "torch.tensor(frame)"
   ]
  },
  {
   "cell_type": "code",
   "execution_count": 28,
   "id": "f063b3c2-a810-4b14-9f1f-8f539484b6ab",
   "metadata": {},
   "outputs": [
    {
     "data": {
      "text/plain": [
       "tensor([[[0., 0., 0.,  ..., 0., 0., 0.],\n",
       "         [1., 1., 1.,  ..., 1., 1., 1.],\n",
       "         [0., 0., 0.,  ..., 0., 0., 0.],\n",
       "         ...,\n",
       "         [0., 0., 0.,  ..., 0., 0., 0.],\n",
       "         [0., 0., 0.,  ..., 0., 0., 0.],\n",
       "         [0., 0., 0.,  ..., 0., 0., 0.]],\n",
       "\n",
       "        [[0., 1., 0.,  ..., 0., 1., 0.],\n",
       "         [0., 0., 0.,  ..., 0., 0., 0.],\n",
       "         [0., 0., 0.,  ..., 0., 0., 0.],\n",
       "         ...,\n",
       "         [0., 0., 0.,  ..., 0., 0., 0.],\n",
       "         [0., 0., 0.,  ..., 0., 0., 0.],\n",
       "         [0., 0., 0.,  ..., 0., 0., 0.]],\n",
       "\n",
       "        [[0., 0., 1.,  ..., 1., 0., 0.],\n",
       "         [0., 0., 0.,  ..., 0., 0., 0.],\n",
       "         [0., 0., 0.,  ..., 0., 0., 0.],\n",
       "         ...,\n",
       "         [0., 0., 0.,  ..., 0., 0., 0.],\n",
       "         [0., 0., 0.,  ..., 0., 0., 0.],\n",
       "         [0., 0., 0.,  ..., 0., 0., 0.]],\n",
       "\n",
       "        ...,\n",
       "\n",
       "        [[1., 0., 0.,  ..., 0., 0., 1.],\n",
       "         [0., 0., 0.,  ..., 0., 0., 0.],\n",
       "         [0., 0., 0.,  ..., 0., 0., 0.],\n",
       "         ...,\n",
       "         [0., 0., 0.,  ..., 0., 0., 0.],\n",
       "         [0., 0., 0.,  ..., 0., 0., 0.],\n",
       "         [1., 0., 0.,  ..., 0., 0., 1.]],\n",
       "\n",
       "        [[0., 0., 0.,  ..., 0., 0., 0.],\n",
       "         [0., 0., 0.,  ..., 0., 0., 0.],\n",
       "         [0., 0., 0.,  ..., 0., 0., 0.],\n",
       "         ...,\n",
       "         [0., 0., 0.,  ..., 0., 0., 0.],\n",
       "         [0., 0., 0.,  ..., 0., 0., 0.],\n",
       "         [0., 0., 0.,  ..., 0., 0., 0.]],\n",
       "\n",
       "        [[1., 1., 1.,  ..., 1., 1., 1.],\n",
       "         [1., 1., 1.,  ..., 1., 1., 1.],\n",
       "         [1., 1., 1.,  ..., 1., 1., 1.],\n",
       "         ...,\n",
       "         [0., 0., 0.,  ..., 0., 0., 0.],\n",
       "         [0., 0., 0.,  ..., 0., 0., 0.],\n",
       "         [0., 0., 0.,  ..., 0., 0., 0.]]], dtype=torch.float64)"
      ]
     },
     "execution_count": 28,
     "metadata": {},
     "output_type": "execute_result"
    }
   ],
   "source": [
    "frame"
   ]
  },
  {
   "cell_type": "code",
   "execution_count": 27,
   "id": "991d0e45-ea4a-4dd0-983b-550e99994a3a",
   "metadata": {},
   "outputs": [
    {
     "name": "stderr",
     "output_type": "stream",
     "text": [
      "/tmp/ipykernel_79883/2085428302.py:1: UserWarning: To copy construct from a tensor, it is recommended to use sourceTensor.clone().detach() or sourceTensor.clone().detach().requires_grad_(True), rather than torch.tensor(sourceTensor).\n",
      "  net(torch.tensor(frame).to(torch.float32))\n"
     ]
    },
    {
     "ename": "RuntimeError",
     "evalue": "mat1 and mat2 shapes cannot be multiplied (10x196 and 1960x1)",
     "output_type": "error",
     "traceback": [
      "\u001b[0;31m---------------------------------------------------------------------------\u001b[0m",
      "\u001b[0;31mRuntimeError\u001b[0m                              Traceback (most recent call last)",
      "Input \u001b[0;32mIn [27]\u001b[0m, in \u001b[0;36m<cell line: 1>\u001b[0;34m()\u001b[0m\n\u001b[0;32m----> 1\u001b[0m \u001b[43mnet\u001b[49m\u001b[43m(\u001b[49m\u001b[43mtorch\u001b[49m\u001b[38;5;241;43m.\u001b[39;49m\u001b[43mtensor\u001b[49m\u001b[43m(\u001b[49m\u001b[43mframe\u001b[49m\u001b[43m)\u001b[49m\u001b[38;5;241;43m.\u001b[39;49m\u001b[43mto\u001b[49m\u001b[43m(\u001b[49m\u001b[43mtorch\u001b[49m\u001b[38;5;241;43m.\u001b[39;49m\u001b[43mfloat32\u001b[49m\u001b[43m)\u001b[49m\u001b[43m)\u001b[49m\n",
      "File \u001b[0;32m~/.local/lib/python3.10/site-packages/torch/nn/modules/module.py:1130\u001b[0m, in \u001b[0;36mModule._call_impl\u001b[0;34m(self, *input, **kwargs)\u001b[0m\n\u001b[1;32m   1126\u001b[0m \u001b[38;5;66;03m# If we don't have any hooks, we want to skip the rest of the logic in\u001b[39;00m\n\u001b[1;32m   1127\u001b[0m \u001b[38;5;66;03m# this function, and just call forward.\u001b[39;00m\n\u001b[1;32m   1128\u001b[0m \u001b[38;5;28;01mif\u001b[39;00m \u001b[38;5;129;01mnot\u001b[39;00m (\u001b[38;5;28mself\u001b[39m\u001b[38;5;241m.\u001b[39m_backward_hooks \u001b[38;5;129;01mor\u001b[39;00m \u001b[38;5;28mself\u001b[39m\u001b[38;5;241m.\u001b[39m_forward_hooks \u001b[38;5;129;01mor\u001b[39;00m \u001b[38;5;28mself\u001b[39m\u001b[38;5;241m.\u001b[39m_forward_pre_hooks \u001b[38;5;129;01mor\u001b[39;00m _global_backward_hooks\n\u001b[1;32m   1129\u001b[0m         \u001b[38;5;129;01mor\u001b[39;00m _global_forward_hooks \u001b[38;5;129;01mor\u001b[39;00m _global_forward_pre_hooks):\n\u001b[0;32m-> 1130\u001b[0m     \u001b[38;5;28;01mreturn\u001b[39;00m \u001b[43mforward_call\u001b[49m\u001b[43m(\u001b[49m\u001b[38;5;241;43m*\u001b[39;49m\u001b[38;5;28;43minput\u001b[39;49m\u001b[43m,\u001b[49m\u001b[43m \u001b[49m\u001b[38;5;241;43m*\u001b[39;49m\u001b[38;5;241;43m*\u001b[39;49m\u001b[43mkwargs\u001b[49m\u001b[43m)\u001b[49m\n\u001b[1;32m   1131\u001b[0m \u001b[38;5;66;03m# Do not call functions when jit is used\u001b[39;00m\n\u001b[1;32m   1132\u001b[0m full_backward_hooks, non_full_backward_hooks \u001b[38;5;241m=\u001b[39m [], []\n",
      "Input \u001b[0;32mIn [1]\u001b[0m, in \u001b[0;36mModel.forward\u001b[0;34m(self, x)\u001b[0m\n\u001b[1;32m     33\u001b[0m     x \u001b[38;5;241m=\u001b[39m \u001b[38;5;28mself\u001b[39m\u001b[38;5;241m.\u001b[39mpool(F\u001b[38;5;241m.\u001b[39mrelu(conv_layer(x))) \n\u001b[1;32m     35\u001b[0m x \u001b[38;5;241m=\u001b[39m torch\u001b[38;5;241m.\u001b[39mflatten(x, \u001b[38;5;241m1\u001b[39m)\u001b[38;5;66;03m#1 because passing batch? \u001b[39;00m\n\u001b[0;32m---> 37\u001b[0m x \u001b[38;5;241m=\u001b[39m \u001b[38;5;28;43mself\u001b[39;49m\u001b[38;5;241;43m.\u001b[39;49m\u001b[43mfc1\u001b[49m\u001b[43m(\u001b[49m\u001b[43mx\u001b[49m\u001b[43m)\u001b[49m\n\u001b[1;32m     39\u001b[0m \u001b[38;5;28;01mreturn\u001b[39;00m x\n",
      "File \u001b[0;32m~/.local/lib/python3.10/site-packages/torch/nn/modules/module.py:1130\u001b[0m, in \u001b[0;36mModule._call_impl\u001b[0;34m(self, *input, **kwargs)\u001b[0m\n\u001b[1;32m   1126\u001b[0m \u001b[38;5;66;03m# If we don't have any hooks, we want to skip the rest of the logic in\u001b[39;00m\n\u001b[1;32m   1127\u001b[0m \u001b[38;5;66;03m# this function, and just call forward.\u001b[39;00m\n\u001b[1;32m   1128\u001b[0m \u001b[38;5;28;01mif\u001b[39;00m \u001b[38;5;129;01mnot\u001b[39;00m (\u001b[38;5;28mself\u001b[39m\u001b[38;5;241m.\u001b[39m_backward_hooks \u001b[38;5;129;01mor\u001b[39;00m \u001b[38;5;28mself\u001b[39m\u001b[38;5;241m.\u001b[39m_forward_hooks \u001b[38;5;129;01mor\u001b[39;00m \u001b[38;5;28mself\u001b[39m\u001b[38;5;241m.\u001b[39m_forward_pre_hooks \u001b[38;5;129;01mor\u001b[39;00m _global_backward_hooks\n\u001b[1;32m   1129\u001b[0m         \u001b[38;5;129;01mor\u001b[39;00m _global_forward_hooks \u001b[38;5;129;01mor\u001b[39;00m _global_forward_pre_hooks):\n\u001b[0;32m-> 1130\u001b[0m     \u001b[38;5;28;01mreturn\u001b[39;00m \u001b[43mforward_call\u001b[49m\u001b[43m(\u001b[49m\u001b[38;5;241;43m*\u001b[39;49m\u001b[38;5;28;43minput\u001b[39;49m\u001b[43m,\u001b[49m\u001b[43m \u001b[49m\u001b[38;5;241;43m*\u001b[39;49m\u001b[38;5;241;43m*\u001b[39;49m\u001b[43mkwargs\u001b[49m\u001b[43m)\u001b[49m\n\u001b[1;32m   1131\u001b[0m \u001b[38;5;66;03m# Do not call functions when jit is used\u001b[39;00m\n\u001b[1;32m   1132\u001b[0m full_backward_hooks, non_full_backward_hooks \u001b[38;5;241m=\u001b[39m [], []\n",
      "File \u001b[0;32m~/.local/lib/python3.10/site-packages/torch/nn/modules/linear.py:114\u001b[0m, in \u001b[0;36mLinear.forward\u001b[0;34m(self, input)\u001b[0m\n\u001b[1;32m    113\u001b[0m \u001b[38;5;28;01mdef\u001b[39;00m \u001b[38;5;21mforward\u001b[39m(\u001b[38;5;28mself\u001b[39m, \u001b[38;5;28minput\u001b[39m: Tensor) \u001b[38;5;241m-\u001b[39m\u001b[38;5;241m>\u001b[39m Tensor:\n\u001b[0;32m--> 114\u001b[0m     \u001b[38;5;28;01mreturn\u001b[39;00m \u001b[43mF\u001b[49m\u001b[38;5;241;43m.\u001b[39;49m\u001b[43mlinear\u001b[49m\u001b[43m(\u001b[49m\u001b[38;5;28;43minput\u001b[39;49m\u001b[43m,\u001b[49m\u001b[43m \u001b[49m\u001b[38;5;28;43mself\u001b[39;49m\u001b[38;5;241;43m.\u001b[39;49m\u001b[43mweight\u001b[49m\u001b[43m,\u001b[49m\u001b[43m \u001b[49m\u001b[38;5;28;43mself\u001b[39;49m\u001b[38;5;241;43m.\u001b[39;49m\u001b[43mbias\u001b[49m\u001b[43m)\u001b[49m\n",
      "\u001b[0;31mRuntimeError\u001b[0m: mat1 and mat2 shapes cannot be multiplied (10x196 and 1960x1)"
     ]
    }
   ],
   "source": [
    "\n",
    "net(torch.tensor(frame).to(torch.float32))"
   ]
  },
  {
   "cell_type": "code",
   "execution_count": 23,
   "id": "36442a2b-b8e1-4104-a72e-64b2873b037f",
   "metadata": {},
   "outputs": [
    {
     "ename": "RuntimeError",
     "evalue": "mat1 and mat2 shapes cannot be multiplied (10x196 and 1960x1)",
     "output_type": "error",
     "traceback": [
      "\u001b[0;31m---------------------------------------------------------------------------\u001b[0m",
      "\u001b[0;31mRuntimeError\u001b[0m                              Traceback (most recent call last)",
      "Input \u001b[0;32mIn [23]\u001b[0m, in \u001b[0;36m<cell line: 1>\u001b[0;34m()\u001b[0m\n\u001b[0;32m----> 1\u001b[0m \u001b[43mnet\u001b[49m\u001b[43m(\u001b[49m\u001b[43mframe\u001b[49m\u001b[38;5;241;43m.\u001b[39;49m\u001b[43mto\u001b[49m\u001b[43m(\u001b[49m\u001b[43mtorch\u001b[49m\u001b[38;5;241;43m.\u001b[39;49m\u001b[43mfloat32\u001b[49m\u001b[43m)\u001b[49m\u001b[43m)\u001b[49m\n",
      "File \u001b[0;32m~/.local/lib/python3.10/site-packages/torch/nn/modules/module.py:1130\u001b[0m, in \u001b[0;36mModule._call_impl\u001b[0;34m(self, *input, **kwargs)\u001b[0m\n\u001b[1;32m   1126\u001b[0m \u001b[38;5;66;03m# If we don't have any hooks, we want to skip the rest of the logic in\u001b[39;00m\n\u001b[1;32m   1127\u001b[0m \u001b[38;5;66;03m# this function, and just call forward.\u001b[39;00m\n\u001b[1;32m   1128\u001b[0m \u001b[38;5;28;01mif\u001b[39;00m \u001b[38;5;129;01mnot\u001b[39;00m (\u001b[38;5;28mself\u001b[39m\u001b[38;5;241m.\u001b[39m_backward_hooks \u001b[38;5;129;01mor\u001b[39;00m \u001b[38;5;28mself\u001b[39m\u001b[38;5;241m.\u001b[39m_forward_hooks \u001b[38;5;129;01mor\u001b[39;00m \u001b[38;5;28mself\u001b[39m\u001b[38;5;241m.\u001b[39m_forward_pre_hooks \u001b[38;5;129;01mor\u001b[39;00m _global_backward_hooks\n\u001b[1;32m   1129\u001b[0m         \u001b[38;5;129;01mor\u001b[39;00m _global_forward_hooks \u001b[38;5;129;01mor\u001b[39;00m _global_forward_pre_hooks):\n\u001b[0;32m-> 1130\u001b[0m     \u001b[38;5;28;01mreturn\u001b[39;00m \u001b[43mforward_call\u001b[49m\u001b[43m(\u001b[49m\u001b[38;5;241;43m*\u001b[39;49m\u001b[38;5;28;43minput\u001b[39;49m\u001b[43m,\u001b[49m\u001b[43m \u001b[49m\u001b[38;5;241;43m*\u001b[39;49m\u001b[38;5;241;43m*\u001b[39;49m\u001b[43mkwargs\u001b[49m\u001b[43m)\u001b[49m\n\u001b[1;32m   1131\u001b[0m \u001b[38;5;66;03m# Do not call functions when jit is used\u001b[39;00m\n\u001b[1;32m   1132\u001b[0m full_backward_hooks, non_full_backward_hooks \u001b[38;5;241m=\u001b[39m [], []\n",
      "Input \u001b[0;32mIn [1]\u001b[0m, in \u001b[0;36mModel.forward\u001b[0;34m(self, x)\u001b[0m\n\u001b[1;32m     33\u001b[0m     x \u001b[38;5;241m=\u001b[39m \u001b[38;5;28mself\u001b[39m\u001b[38;5;241m.\u001b[39mpool(F\u001b[38;5;241m.\u001b[39mrelu(conv_layer(x))) \n\u001b[1;32m     35\u001b[0m x \u001b[38;5;241m=\u001b[39m torch\u001b[38;5;241m.\u001b[39mflatten(x, \u001b[38;5;241m1\u001b[39m)\u001b[38;5;66;03m#1 because passing batch? \u001b[39;00m\n\u001b[0;32m---> 37\u001b[0m x \u001b[38;5;241m=\u001b[39m \u001b[38;5;28;43mself\u001b[39;49m\u001b[38;5;241;43m.\u001b[39;49m\u001b[43mfc1\u001b[49m\u001b[43m(\u001b[49m\u001b[43mx\u001b[49m\u001b[43m)\u001b[49m\n\u001b[1;32m     39\u001b[0m \u001b[38;5;28;01mreturn\u001b[39;00m x\n",
      "File \u001b[0;32m~/.local/lib/python3.10/site-packages/torch/nn/modules/module.py:1130\u001b[0m, in \u001b[0;36mModule._call_impl\u001b[0;34m(self, *input, **kwargs)\u001b[0m\n\u001b[1;32m   1126\u001b[0m \u001b[38;5;66;03m# If we don't have any hooks, we want to skip the rest of the logic in\u001b[39;00m\n\u001b[1;32m   1127\u001b[0m \u001b[38;5;66;03m# this function, and just call forward.\u001b[39;00m\n\u001b[1;32m   1128\u001b[0m \u001b[38;5;28;01mif\u001b[39;00m \u001b[38;5;129;01mnot\u001b[39;00m (\u001b[38;5;28mself\u001b[39m\u001b[38;5;241m.\u001b[39m_backward_hooks \u001b[38;5;129;01mor\u001b[39;00m \u001b[38;5;28mself\u001b[39m\u001b[38;5;241m.\u001b[39m_forward_hooks \u001b[38;5;129;01mor\u001b[39;00m \u001b[38;5;28mself\u001b[39m\u001b[38;5;241m.\u001b[39m_forward_pre_hooks \u001b[38;5;129;01mor\u001b[39;00m _global_backward_hooks\n\u001b[1;32m   1129\u001b[0m         \u001b[38;5;129;01mor\u001b[39;00m _global_forward_hooks \u001b[38;5;129;01mor\u001b[39;00m _global_forward_pre_hooks):\n\u001b[0;32m-> 1130\u001b[0m     \u001b[38;5;28;01mreturn\u001b[39;00m \u001b[43mforward_call\u001b[49m\u001b[43m(\u001b[49m\u001b[38;5;241;43m*\u001b[39;49m\u001b[38;5;28;43minput\u001b[39;49m\u001b[43m,\u001b[49m\u001b[43m \u001b[49m\u001b[38;5;241;43m*\u001b[39;49m\u001b[38;5;241;43m*\u001b[39;49m\u001b[43mkwargs\u001b[49m\u001b[43m)\u001b[49m\n\u001b[1;32m   1131\u001b[0m \u001b[38;5;66;03m# Do not call functions when jit is used\u001b[39;00m\n\u001b[1;32m   1132\u001b[0m full_backward_hooks, non_full_backward_hooks \u001b[38;5;241m=\u001b[39m [], []\n",
      "File \u001b[0;32m~/.local/lib/python3.10/site-packages/torch/nn/modules/linear.py:114\u001b[0m, in \u001b[0;36mLinear.forward\u001b[0;34m(self, input)\u001b[0m\n\u001b[1;32m    113\u001b[0m \u001b[38;5;28;01mdef\u001b[39;00m \u001b[38;5;21mforward\u001b[39m(\u001b[38;5;28mself\u001b[39m, \u001b[38;5;28minput\u001b[39m: Tensor) \u001b[38;5;241m-\u001b[39m\u001b[38;5;241m>\u001b[39m Tensor:\n\u001b[0;32m--> 114\u001b[0m     \u001b[38;5;28;01mreturn\u001b[39;00m \u001b[43mF\u001b[49m\u001b[38;5;241;43m.\u001b[39;49m\u001b[43mlinear\u001b[49m\u001b[43m(\u001b[49m\u001b[38;5;28;43minput\u001b[39;49m\u001b[43m,\u001b[49m\u001b[43m \u001b[49m\u001b[38;5;28;43mself\u001b[39;49m\u001b[38;5;241;43m.\u001b[39;49m\u001b[43mweight\u001b[49m\u001b[43m,\u001b[49m\u001b[43m \u001b[49m\u001b[38;5;28;43mself\u001b[39;49m\u001b[38;5;241;43m.\u001b[39;49m\u001b[43mbias\u001b[49m\u001b[43m)\u001b[49m\n",
      "\u001b[0;31mRuntimeError\u001b[0m: mat1 and mat2 shapes cannot be multiplied (10x196 and 1960x1)"
     ]
    }
   ],
   "source": [
    "net(frame.to(torch.float32))"
   ]
  },
  {
   "cell_type": "code",
   "execution_count": 70,
   "id": "1ab334ec-9ce7-493e-a3d1-12038e32f0e6",
   "metadata": {},
   "outputs": [],
   "source": [
    "from torch import nn\n",
    "\n",
    "class BasicBlock(nn.Module):\n",
    "    def __init__(self, inplanes, planes, stride=1, downsample=None):\n",
    "        super().__init__()\n",
    "        self.conv1 = nn.Conv2d(inplanes, planes, kernel_size=3, stride=stride,\n",
    "                     padding=1, bias=False)\n",
    "        self.bn1 = nn.BatchNorm2d(planes)\n",
    "        self.relu = nn.ReLU(inplace=True)\n",
    "        self.conv2 = nn.Conv2d(planes, planes, kernel_size=3, stride=1,\n",
    "                     padding=1, bias=False)\n",
    "        self.bn2 = nn.BatchNorm2d(planes)\n",
    "        self.downsample = downsample\n",
    "        self.stride = stride\n",
    "\n",
    "    def forward(self, x):\n",
    "        identity = x\n",
    "        print(identity.shape)\n",
    "\n",
    "        out = self.conv1(x)\n",
    "        print(out.shape)\n",
    "        out = self.bn1(out)\n",
    "        print(out.shape)\n",
    "        out = self.relu(out)\n",
    "        print(out.shape)\n",
    "        out = self.conv2(out)\n",
    "        print(out.shape)\n",
    "        out = self.bn2(out)\n",
    "        print(out.shape)\n",
    "\n",
    "        if self.downsample is not None:\n",
    "            identity = self.downsample(x)\n",
    "\n",
    "        out += identity\n",
    "        out = self.relu(out)\n",
    "\n",
    "\n",
    "        return out"
   ]
  },
  {
   "cell_type": "code",
   "execution_count": 71,
   "id": "fdc26d21-bc7a-4ff6-ba21-76e110c74de8",
   "metadata": {},
   "outputs": [],
   "source": [
    "class ResnetModel(nn.Module):\n",
    "    def __init__(self, number_of_convolutions, number_of_filters): \n",
    "        super().__init__() \n",
    "        self.number_of_convolutions = number_of_convolutions\n",
    "        self.number_of_filters = number_of_filters\n",
    "        \n",
    "        self.basicblock =  BasicBlock(16, number_of_filters)\n",
    "        \n",
    "        \n",
    "        self.block_list = nn.ModuleList([BasicBlock(number_of_filters, number_of_filters) for i in range(number_of_convolutions)])\n",
    "        \n",
    "        \n",
    "        self.fc1 = nn.Linear(16*8*8, 1) \n",
    "    \n",
    "    def forward(self, x): \n",
    "        \n",
    "        x = self.basicblock(x)\n",
    "        print(x.shape)\n",
    "        \n",
    "        for block_layer in self.block_list:\n",
    "            x = block_layer(x)\n",
    "        \n",
    "        x = torch.flatten(x, 1)#1 because passing batch? \n",
    "        \n",
    "        x = self.fc1(x)\n",
    "\n",
    "        return x\n",
    "    "
   ]
  },
  {
   "cell_type": "code",
   "execution_count": 4,
   "id": "156f3b57-6748-44e2-822c-dc51341dccd4",
   "metadata": {},
   "outputs": [],
   "source": [
    "import torchsummary"
   ]
  },
  {
   "cell_type": "code",
   "execution_count": 72,
   "id": "4b2219ed-d055-469a-8814-e68bcd54bd2f",
   "metadata": {},
   "outputs": [],
   "source": [
    "block = BasicBlock(16,16).to('cuda:0')"
   ]
  },
  {
   "cell_type": "code",
   "execution_count": 75,
   "id": "d225b463-3975-4ad6-86dd-ca16c4135b64",
   "metadata": {},
   "outputs": [],
   "source": [
    "resnet_model = ResnetModel(5,16).to('cuda:0')"
   ]
  },
  {
   "cell_type": "code",
   "execution_count": 36,
   "id": "5f8f0012-c3dc-49fa-9a1b-fc820a15275a",
   "metadata": {},
   "outputs": [
    {
     "data": {
      "text/plain": [
       "1024"
      ]
     },
     "execution_count": 36,
     "metadata": {},
     "output_type": "execute_result"
    }
   ],
   "source": [
    "16*8*8"
   ]
  },
  {
   "cell_type": "code",
   "execution_count": 26,
   "id": "86d15412-6421-4c64-813f-a819e12218fe",
   "metadata": {},
   "outputs": [
    {
     "data": {
      "text/plain": [
       "torch.Size([64, 16, 8, 8])"
      ]
     },
     "execution_count": 26,
     "metadata": {},
     "output_type": "execute_result"
    }
   ],
   "source": [
    "hold_batch[0].shape"
   ]
  },
  {
   "cell_type": "code",
   "execution_count": 52,
   "id": "68d8a6ac-aecc-4623-8e14-8af928810fa9",
   "metadata": {},
   "outputs": [
    {
     "name": "stdout",
     "output_type": "stream",
     "text": [
      "----------------------------------------------------------------\n",
      "        Layer (type)               Output Shape         Param #\n",
      "================================================================\n",
      "            Conv2d-1             [-1, 16, 8, 8]           2,304\n",
      "       BatchNorm2d-2             [-1, 16, 8, 8]              32\n",
      "              ReLU-3             [-1, 16, 8, 8]               0\n",
      "            Conv2d-4             [-1, 16, 8, 8]           2,304\n",
      "       BatchNorm2d-5             [-1, 16, 8, 8]              32\n",
      "              ReLU-6             [-1, 16, 8, 8]               0\n",
      "================================================================\n",
      "Total params: 4,672\n",
      "Trainable params: 4,672\n",
      "Non-trainable params: 0\n",
      "----------------------------------------------------------------\n",
      "Input size (MB): 0.00\n",
      "Forward/backward pass size (MB): 0.05\n",
      "Params size (MB): 0.02\n",
      "Estimated Total Size (MB): 0.07\n",
      "----------------------------------------------------------------\n"
     ]
    }
   ],
   "source": [
    "torchsummary.summary(block, input_size=(16, 8, 8))"
   ]
  },
  {
   "cell_type": "code",
   "execution_count": 77,
   "id": "3602d943-9ddb-4c08-8d0f-5ec6235cf5fd",
   "metadata": {},
   "outputs": [
    {
     "name": "stdout",
     "output_type": "stream",
     "text": [
      "torch.Size([2, 16, 8, 8])\n",
      "torch.Size([2, 16, 8, 8])\n",
      "torch.Size([2, 16, 8, 8])\n",
      "torch.Size([2, 16, 8, 8])\n",
      "torch.Size([2, 16, 8, 8])\n",
      "torch.Size([2, 16, 8, 8])\n",
      "torch.Size([2, 16, 8, 8])\n",
      "torch.Size([2, 16, 8, 8])\n",
      "torch.Size([2, 16, 8, 8])\n",
      "torch.Size([2, 16, 8, 8])\n",
      "torch.Size([2, 16, 8, 8])\n",
      "torch.Size([2, 16, 8, 8])\n",
      "torch.Size([2, 16, 8, 8])\n",
      "torch.Size([2, 16, 8, 8])\n",
      "torch.Size([2, 16, 8, 8])\n",
      "torch.Size([2, 16, 8, 8])\n",
      "torch.Size([2, 16, 8, 8])\n",
      "torch.Size([2, 16, 8, 8])\n",
      "torch.Size([2, 16, 8, 8])\n",
      "torch.Size([2, 16, 8, 8])\n",
      "torch.Size([2, 16, 8, 8])\n",
      "torch.Size([2, 16, 8, 8])\n",
      "torch.Size([2, 16, 8, 8])\n",
      "torch.Size([2, 16, 8, 8])\n",
      "torch.Size([2, 16, 8, 8])\n",
      "torch.Size([2, 16, 8, 8])\n",
      "torch.Size([2, 16, 8, 8])\n",
      "torch.Size([2, 16, 8, 8])\n",
      "torch.Size([2, 16, 8, 8])\n",
      "torch.Size([2, 16, 8, 8])\n",
      "torch.Size([2, 16, 8, 8])\n",
      "torch.Size([2, 16, 8, 8])\n",
      "torch.Size([2, 16, 8, 8])\n",
      "torch.Size([2, 16, 8, 8])\n",
      "torch.Size([2, 16, 8, 8])\n",
      "torch.Size([2, 16, 8, 8])\n",
      "torch.Size([2, 16, 8, 8])\n",
      "----------------------------------------------------------------\n",
      "        Layer (type)               Output Shape         Param #\n",
      "================================================================\n",
      "            Conv2d-1             [-1, 16, 8, 8]           2,304\n",
      "       BatchNorm2d-2             [-1, 16, 8, 8]              32\n",
      "              ReLU-3             [-1, 16, 8, 8]               0\n",
      "            Conv2d-4             [-1, 16, 8, 8]           2,304\n",
      "       BatchNorm2d-5             [-1, 16, 8, 8]              32\n",
      "              ReLU-6             [-1, 16, 8, 8]               0\n",
      "        BasicBlock-7             [-1, 16, 8, 8]               0\n",
      "            Conv2d-8             [-1, 16, 8, 8]           2,304\n",
      "       BatchNorm2d-9             [-1, 16, 8, 8]              32\n",
      "             ReLU-10             [-1, 16, 8, 8]               0\n",
      "           Conv2d-11             [-1, 16, 8, 8]           2,304\n",
      "      BatchNorm2d-12             [-1, 16, 8, 8]              32\n",
      "             ReLU-13             [-1, 16, 8, 8]               0\n",
      "       BasicBlock-14             [-1, 16, 8, 8]               0\n",
      "           Conv2d-15             [-1, 16, 8, 8]           2,304\n",
      "      BatchNorm2d-16             [-1, 16, 8, 8]              32\n",
      "             ReLU-17             [-1, 16, 8, 8]               0\n",
      "           Conv2d-18             [-1, 16, 8, 8]           2,304\n",
      "      BatchNorm2d-19             [-1, 16, 8, 8]              32\n",
      "             ReLU-20             [-1, 16, 8, 8]               0\n",
      "       BasicBlock-21             [-1, 16, 8, 8]               0\n",
      "           Conv2d-22             [-1, 16, 8, 8]           2,304\n",
      "      BatchNorm2d-23             [-1, 16, 8, 8]              32\n",
      "             ReLU-24             [-1, 16, 8, 8]               0\n",
      "           Conv2d-25             [-1, 16, 8, 8]           2,304\n",
      "      BatchNorm2d-26             [-1, 16, 8, 8]              32\n",
      "             ReLU-27             [-1, 16, 8, 8]               0\n",
      "       BasicBlock-28             [-1, 16, 8, 8]               0\n",
      "           Conv2d-29             [-1, 16, 8, 8]           2,304\n",
      "      BatchNorm2d-30             [-1, 16, 8, 8]              32\n",
      "             ReLU-31             [-1, 16, 8, 8]               0\n",
      "           Conv2d-32             [-1, 16, 8, 8]           2,304\n",
      "      BatchNorm2d-33             [-1, 16, 8, 8]              32\n",
      "             ReLU-34             [-1, 16, 8, 8]               0\n",
      "       BasicBlock-35             [-1, 16, 8, 8]               0\n",
      "           Conv2d-36             [-1, 16, 8, 8]           2,304\n",
      "      BatchNorm2d-37             [-1, 16, 8, 8]              32\n",
      "             ReLU-38             [-1, 16, 8, 8]               0\n",
      "           Conv2d-39             [-1, 16, 8, 8]           2,304\n",
      "      BatchNorm2d-40             [-1, 16, 8, 8]              32\n",
      "             ReLU-41             [-1, 16, 8, 8]               0\n",
      "       BasicBlock-42             [-1, 16, 8, 8]               0\n",
      "           Linear-43                    [-1, 1]           1,025\n",
      "================================================================\n",
      "Total params: 29,057\n",
      "Trainable params: 29,057\n",
      "Non-trainable params: 0\n",
      "----------------------------------------------------------------\n",
      "Input size (MB): 0.00\n",
      "Forward/backward pass size (MB): 0.33\n",
      "Params size (MB): 0.11\n",
      "Estimated Total Size (MB): 0.44\n",
      "----------------------------------------------------------------\n"
     ]
    }
   ],
   "source": [
    "torchsummary.summary(resnet_model, input_size=(16, 8, 8))\n"
   ]
  },
  {
   "cell_type": "code",
   "execution_count": 76,
   "id": "866f3848-09ee-4604-a8b8-d59bc03d6df6",
   "metadata": {},
   "outputs": [
    {
     "name": "stdout",
     "output_type": "stream",
     "text": [
      "torch.Size([64, 16, 8, 8])\n",
      "torch.Size([64, 16, 8, 8])\n",
      "torch.Size([64, 16, 8, 8])\n",
      "torch.Size([64, 16, 8, 8])\n",
      "torch.Size([64, 16, 8, 8])\n",
      "torch.Size([64, 16, 8, 8])\n",
      "torch.Size([64, 16, 8, 8])\n",
      "torch.Size([64, 16, 8, 8])\n",
      "torch.Size([64, 16, 8, 8])\n",
      "torch.Size([64, 16, 8, 8])\n",
      "torch.Size([64, 16, 8, 8])\n",
      "torch.Size([64, 16, 8, 8])\n",
      "torch.Size([64, 16, 8, 8])\n",
      "torch.Size([64, 16, 8, 8])\n",
      "torch.Size([64, 16, 8, 8])\n",
      "torch.Size([64, 16, 8, 8])\n",
      "torch.Size([64, 16, 8, 8])\n",
      "torch.Size([64, 16, 8, 8])\n",
      "torch.Size([64, 16, 8, 8])\n",
      "torch.Size([64, 16, 8, 8])\n",
      "torch.Size([64, 16, 8, 8])\n",
      "torch.Size([64, 16, 8, 8])\n",
      "torch.Size([64, 16, 8, 8])\n",
      "torch.Size([64, 16, 8, 8])\n",
      "torch.Size([64, 16, 8, 8])\n",
      "torch.Size([64, 16, 8, 8])\n",
      "torch.Size([64, 16, 8, 8])\n",
      "torch.Size([64, 16, 8, 8])\n",
      "torch.Size([64, 16, 8, 8])\n",
      "torch.Size([64, 16, 8, 8])\n",
      "torch.Size([64, 16, 8, 8])\n",
      "torch.Size([64, 16, 8, 8])\n",
      "torch.Size([64, 16, 8, 8])\n",
      "torch.Size([64, 16, 8, 8])\n",
      "torch.Size([64, 16, 8, 8])\n",
      "torch.Size([64, 16, 8, 8])\n",
      "torch.Size([64, 16, 8, 8])\n"
     ]
    },
    {
     "data": {
      "text/plain": [
       "tensor([[ 0.7736],\n",
       "        [ 1.0469],\n",
       "        [ 1.8279],\n",
       "        [ 2.0453],\n",
       "        [ 0.4074],\n",
       "        [ 1.2706],\n",
       "        [ 0.7688],\n",
       "        [ 0.8457],\n",
       "        [ 1.5446],\n",
       "        [ 3.0530],\n",
       "        [ 1.2010],\n",
       "        [ 1.2852],\n",
       "        [ 0.6718],\n",
       "        [ 1.4506],\n",
       "        [ 0.9064],\n",
       "        [ 0.7543],\n",
       "        [ 1.9375],\n",
       "        [ 1.8682],\n",
       "        [ 0.1956],\n",
       "        [ 0.0975],\n",
       "        [-0.3941],\n",
       "        [-0.2912],\n",
       "        [ 1.8353],\n",
       "        [ 1.5088],\n",
       "        [ 1.1772],\n",
       "        [-1.4295],\n",
       "        [ 0.5783],\n",
       "        [ 0.7171],\n",
       "        [ 0.2927],\n",
       "        [ 1.7166],\n",
       "        [ 1.7888],\n",
       "        [ 1.4183],\n",
       "        [-0.1855],\n",
       "        [ 1.7660],\n",
       "        [ 0.7692],\n",
       "        [ 1.1087],\n",
       "        [ 2.3195],\n",
       "        [-0.1153],\n",
       "        [ 1.4937],\n",
       "        [ 1.8711],\n",
       "        [ 0.7237],\n",
       "        [ 0.4986],\n",
       "        [ 0.7086],\n",
       "        [ 1.5196],\n",
       "        [ 1.2619],\n",
       "        [ 1.2157],\n",
       "        [ 1.8182],\n",
       "        [ 1.4682],\n",
       "        [ 0.8748],\n",
       "        [ 1.5197],\n",
       "        [ 1.7775],\n",
       "        [ 0.8799],\n",
       "        [ 0.1574],\n",
       "        [ 1.4024],\n",
       "        [ 1.0376],\n",
       "        [ 0.9351],\n",
       "        [ 2.2581],\n",
       "        [ 0.8776],\n",
       "        [ 1.8843],\n",
       "        [ 0.2084],\n",
       "        [ 0.1415],\n",
       "        [ 0.2215],\n",
       "        [ 1.8637],\n",
       "        [ 1.0562]], device='cuda:0', grad_fn=<AddmmBackward0>)"
      ]
     },
     "execution_count": 76,
     "metadata": {},
     "output_type": "execute_result"
    }
   ],
   "source": [
    "resnet_model(hold_batch[0].to(torch.float).to('cuda:0'))"
   ]
  },
  {
   "cell_type": "code",
   "execution_count": null,
   "id": "e8390e7a-176f-4619-b874-85c9d5c4f1af",
   "metadata": {},
   "outputs": [],
   "source": []
  }
 ],
 "metadata": {
  "kernelspec": {
   "display_name": "Python 3 (ipykernel)",
   "language": "python",
   "name": "python3"
  },
  "language_info": {
   "codemirror_mode": {
    "name": "ipython",
    "version": 3
   },
   "file_extension": ".py",
   "mimetype": "text/x-python",
   "name": "python",
   "nbconvert_exporter": "python",
   "pygments_lexer": "ipython3",
   "version": "3.10.6"
  }
 },
 "nbformat": 4,
 "nbformat_minor": 5
}
